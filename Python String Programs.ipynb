{
 "cells": [
  {
   "cell_type": "markdown",
   "metadata": {},
   "source": [
    "# 1. write a program which takes 2 inputs from the user : weight(kg) and height(meter) and prints the BMI in the output.\n",
    "\n",
    "BMI = weight / (square of height)\n"
   ]
  },
  {
   "cell_type": "code",
   "execution_count": 1,
   "metadata": {},
   "outputs": [
    {
     "name": "stdout",
     "output_type": "stream",
     "text": [
      "Enter weight:73\n",
      "Enter height:176\n",
      "Body Mass index: 0.002356663223140496\n"
     ]
    }
   ],
   "source": [
    "BMI = 0\n",
    "wt = int(input(\"Enter weight:\"))\n",
    "ht = int(input(\"Enter height:\"))\n",
    "\n",
    "BMI = wt/ht**2\n",
    "print(\"Body Mass index:\", BMI)"
   ]
  },
  {
   "cell_type": "code",
   "execution_count": null,
   "metadata": {},
   "outputs": [],
   "source": []
  },
  {
   "cell_type": "markdown",
   "metadata": {},
   "source": [
    "# 2- write a program which takes the name of the user as input and replace all the occurence of character 'a' in the name to 'b' and print it."
   ]
  },
  {
   "cell_type": "code",
   "execution_count": 2,
   "metadata": {},
   "outputs": [
    {
     "name": "stdout",
     "output_type": "stream",
     "text": [
      "Nilanjan\n",
      "Nilbnjbn\n"
     ]
    }
   ],
   "source": [
    "name = input()\n",
    "\n",
    "new_name = name.replace(\"a\",\"b\")\n",
    "print(new_name)"
   ]
  },
  {
   "cell_type": "code",
   "execution_count": null,
   "metadata": {},
   "outputs": [],
   "source": []
  },
  {
   "cell_type": "markdown",
   "metadata": {},
   "source": [
    "# 3- write a program which takes 2 inputs from user as principle amount (int) and rate of annual interest (float) and print the expected total amount  after  2 years.\n",
    "\n",
    "example : principle : 100 , interest percent 10  then amount after 2 years will be : 100*1.1*1.1 = 121"
   ]
  },
  {
   "cell_type": "code",
   "execution_count": 9,
   "metadata": {},
   "outputs": [
    {
     "name": "stdout",
     "output_type": "stream",
     "text": [
      "100\n",
      "10\n",
      "Total amount: 121.00000000000001\n"
     ]
    }
   ],
   "source": [
    "p_amt = int(input())\n",
    "interest = float(input())\n",
    "\n",
    "total_amt = p_amt *(1+ (interest/100))**2\n",
    "print(\"Total amount:\", total_amt)"
   ]
  },
  {
   "cell_type": "markdown",
   "metadata": {},
   "source": [
    "# 4- write a program which takes city name from user input. irrespective of in which case user enters the city name, print the city name in camel case meaning first letter should be capital and rest in small.\n",
    "\n",
    "example : input : MYSORE ,  print - > Mysore "
   ]
  },
  {
   "cell_type": "code",
   "execution_count": 10,
   "metadata": {},
   "outputs": [
    {
     "name": "stdout",
     "output_type": "stream",
     "text": [
      "MYSoRe\n",
      "Mysore\n"
     ]
    }
   ],
   "source": [
    "city_name = input()\n",
    "\n",
    "new_name = city_name.capitalize()\n",
    "print(new_name)"
   ]
  },
  {
   "cell_type": "markdown",
   "metadata": {},
   "source": [
    "# 5- write a program which takes the name of the user as input and print the index of character 'a' in the string. if 'a' is not there then return -1."
   ]
  },
  {
   "cell_type": "code",
   "execution_count": 16,
   "metadata": {},
   "outputs": [
    {
     "name": "stdout",
     "output_type": "stream",
     "text": [
      "Enter your name: nil\n",
      "Index of 'a': -1\n"
     ]
    }
   ],
   "source": [
    "name = input(\"Enter your name: \")\n",
    "txt_find = name.find(\"a\")\n",
    "\n",
    "print(\"Index of 'a':\", txt_find)"
   ]
  },
  {
   "cell_type": "markdown",
   "metadata": {},
   "source": [
    "# 6-  Display the number of letters in the below string\n",
    "my_word = \"antidisestablishmentarianism\""
   ]
  },
  {
   "cell_type": "code",
   "execution_count": 14,
   "metadata": {},
   "outputs": [
    {
     "name": "stdout",
     "output_type": "stream",
     "text": [
      "Number of letters: 28\n"
     ]
    }
   ],
   "source": [
    "my_word = \"antidisestablishmentarianism\"\n",
    "print(\"Number of letters:\", len(my_word))"
   ]
  },
  {
   "cell_type": "markdown",
   "metadata": {},
   "source": [
    "# 7- take 3 inputs from user : first name , last name and age . Display the information in below format\n",
    "exmaple \n",
    "first name : MOhit\n",
    "last name : sharma \n",
    "age 32\n",
    "Display : my name is Mohit Sharma and I am 32 years old."
   ]
  },
  {
   "cell_type": "code",
   "execution_count": 4,
   "metadata": {},
   "outputs": [
    {
     "name": "stdout",
     "output_type": "stream",
     "text": [
      "mohit\n",
      "shrma\n",
      "32\n",
      "my name is Mohit Shrma and I am 32 years old\n"
     ]
    }
   ],
   "source": [
    "first_name = input().capitalize()\n",
    "last_name = input().capitalize()\n",
    "age = int(input())\n",
    "\n",
    "print(f\"my name is {first_name} {last_name} and I am {age} years old\")\n"
   ]
  },
  {
   "cell_type": "markdown",
   "metadata": {},
   "source": [
    "# 8-take 3 inputs from user : first name , last name and company name. create the email alias for the user and display it.  Email alias is first 2 letters of first name , last 3 letters of last name and @company.com\n",
    "example \n",
    "first name : MOhit\n",
    "last name : sharma \n",
    "company : infosys\n",
    "\n",
    "Display : morma@infosys.com \n",
    "\n",
    "note full email id should -be in lower case"
   ]
  },
  {
   "cell_type": "code",
   "execution_count": 7,
   "metadata": {},
   "outputs": [
    {
     "name": "stdout",
     "output_type": "stream",
     "text": [
      "Nila\n",
      "Paul\n",
      "vesu\n",
      "niaul@vesu.com\n"
     ]
    }
   ],
   "source": [
    "first_name = input()\n",
    "last_name = input()\n",
    "company = input()\n",
    "\n",
    "txt = first_name[:2]+last_name[-3:]+\"@\"+company+\".com\"\n",
    "print(txt.lower())"
   ]
  },
  {
   "cell_type": "code",
   "execution_count": null,
   "metadata": {},
   "outputs": [],
   "source": []
  }
 ],
 "metadata": {
  "kernelspec": {
   "display_name": "Python 3",
   "language": "python",
   "name": "python3"
  },
  "language_info": {
   "codemirror_mode": {
    "name": "ipython",
    "version": 3
   },
   "file_extension": ".py",
   "mimetype": "text/x-python",
   "name": "python",
   "nbconvert_exporter": "python",
   "pygments_lexer": "ipython3",
   "version": "3.6.5"
  }
 },
 "nbformat": 4,
 "nbformat_minor": 2
}

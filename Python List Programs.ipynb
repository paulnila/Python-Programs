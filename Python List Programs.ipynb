{
 "cells": [
  {
   "cell_type": "markdown",
   "metadata": {},
   "source": [
    "# 1- write a program which takes single input from user contaning first name,last name and age as comma separated value and display then in 3 lines in given format below.\n",
    "\n",
    "example user input : Ankit,Bansal,35\n",
    "\n",
    "output:\n",
    "First name is Ankit\n",
    "last name is Bansal\n",
    "Ankit is 35 years old \n"
   ]
  },
  {
   "cell_type": "code",
   "execution_count": 11,
   "metadata": {},
   "outputs": [
    {
     "name": "stdout",
     "output_type": "stream",
     "text": [
      "Nila,Paul,27\n",
      "First name is Nila\n",
      "Last Name is Paul\n",
      "Nila is 27 years old\n"
     ]
    }
   ],
   "source": [
    "Info_input = input()\n",
    "lst = Info_input.split(\",\")\n",
    "\n",
    "sentence = \"First name is \"+ lst[0]+ \" last name is \"+ lst[1]+ \" \"+ lst[0]+ \" is \"+ lst[2]+ \" years old\"\n",
    "new_line = f\"First name is {lst[0]}\\nLast Name is {lst[1]}\\n{lst[0]} is {lst[2]} years old\"\n",
    "print(new_line)"
   ]
  },
  {
   "cell_type": "markdown",
   "metadata": {},
   "source": [
    "# 2- given 2 list as list1= [1,3,4] and list2 = [2,4,6]\n",
    "\n",
    "combined the 2 list and diplay the same without using extend method"
   ]
  },
  {
   "cell_type": "code",
   "execution_count": 3,
   "metadata": {},
   "outputs": [
    {
     "name": "stdout",
     "output_type": "stream",
     "text": [
      "123\n",
      "456\n",
      "['1', '2', '3', '4', '5', '6']\n"
     ]
    }
   ],
   "source": [
    "n = input()\n",
    "m = input()\n",
    "nn = n.split(\",\")\n",
    "mm = m.split(\",\")\n",
    "list1 = list(n)\n",
    "list2 = list(m)\n",
    "\n",
    "print(list(list1+list2))"
   ]
  },
  {
   "cell_type": "markdown",
   "metadata": {},
   "source": [
    "# 3- given a list list1=[1,2,3,4,5,6,7,8]\n",
    "diplay a new list which contains only odd position index values from above list.\n"
   ]
  },
  {
   "cell_type": "code",
   "execution_count": 9,
   "metadata": {},
   "outputs": [
    {
     "name": "stdout",
     "output_type": "stream",
     "text": [
      "New list with odd position values: [2, 4, 6, 8]\n"
     ]
    }
   ],
   "source": []
  },
  {
   "cell_type": "code",
   "execution_count": null,
   "metadata": {},
   "outputs": [],
   "source": [
    "list1=[1,2,3,4,5,6,7,8]\n",
    "\n",
    "odd_position_values = []\n",
    "for i in range(len(list1)):\n",
    "    if i % 2 != 0:\n",
    "        odd_position_values.append(list1[i])\n",
    "\n",
    "print(\"New list with odd position values:\", odd_position_values)\n"
   ]
  },
  {
   "cell_type": "markdown",
   "metadata": {},
   "source": [
    "# 4- ipl= ['CSK','MI','KKR','LSG','PBKS']\n",
    "\n",
    "take a ipl team name as input from user and display a list of all elements from that name.\n",
    "\n",
    "example : input : KKR\n",
    "output : ['KKR','LSG','PBKS']\n",
    "\n"
   ]
  },
  {
   "cell_type": "code",
   "execution_count": null,
   "metadata": {},
   "outputs": [],
   "source": [
    "ipl= ['CSK','MI','KKR','LSG','PBKS']\n",
    "\n",
    "team = input()\n",
    "\n",
    "team_index = ipl.index(team)\n",
    "print(\"list of all elements from that name: \", ipl[team_index:])"
   ]
  },
  {
   "cell_type": "markdown",
   "metadata": {},
   "source": [
    "# 5- ipl= ['CSK','MI','KKR','LSG','PBKS']\n",
    "\n",
    "take a ipl team name as input from user and display a list of all elements except input one\n",
    "\n",
    "example : input : KKR\n",
    "output : ['CSK','MI','LSG','PBKS']"
   ]
  },
  {
   "cell_type": "code",
   "execution_count": null,
   "metadata": {},
   "outputs": [],
   "source": [
    "ipl= ['CSK','MI','KKR','LSG','PBKS']\n",
    "\n",
    "team = input(\"Enter team name: \")\n",
    "\n",
    "if team in ipl:\n",
    "    idx = ipl.index(team)\n",
    "    removed_team = ipl.pop(idx)\n",
    "    print(f\"removed team: {removed_team}\")\n",
    "else:\n",
    "    print(f\"{team} not in list\")\n",
    "    \n",
    "print(ipl)"
   ]
  },
  {
   "cell_type": "markdown",
   "metadata": {},
   "source": [
    "# 6- ipl= ['CSK','MI','KKR','LSG','PBKS']\n",
    "take a user input contains 2 comma seprated values index,new_team . replace the index element of list with new value and display the same"
   ]
  },
  {
   "cell_type": "code",
   "execution_count": null,
   "metadata": {},
   "outputs": [],
   "source": [
    "ipl= ['CSK','MI','KKR','LSG','PBKS']\n",
    "\n",
    "user_input = input(\"Enter CSV: \")\n",
    "idx,new_team = user_input.split()\n",
    "index = int(idx)\n",
    "ipl[index]= new_team\n",
    "print(ipl)"
   ]
  },
  {
   "cell_type": "markdown",
   "metadata": {},
   "source": [
    "# 7- ipl= ['CSK','MI','KKR','LSG','PBKS']\n",
    "take ipl team name as user input. display True if the team exists else display False. "
   ]
  },
  {
   "cell_type": "code",
   "execution_count": 24,
   "metadata": {},
   "outputs": [
    {
     "name": "stdout",
     "output_type": "stream",
     "text": [
      "RR\n",
      "False\n"
     ]
    }
   ],
   "source": [
    "ipl= ['CSK','MI','KKR','LSG','PBKS']\n",
    "team = input()\n",
    "\n",
    "if team in ipl:\n",
    "    print(\"True\")\n",
    "else:\n",
    "    print(\"False\")"
   ]
  },
  {
   "cell_type": "markdown",
   "metadata": {},
   "source": [
    "# 8-ipl= ['CSK','MI','KKR','LSG','PBKS']\n",
    "take a user input contains 2 comma seprated values index,new_team . Add the new value at that index in the list. \n",
    "Display the old list , new list,length of original and new list\n",
    "\n",
    "example : input : 2,SRH\n",
    "output : \n",
    "old list : ['CSK','MI','KKR','LSG','PBKS'] and length 5\n",
    "new list : ['CSK','MI','SRH','KKR',LSG','PBKS'] and length 6\n"
   ]
  },
  {
   "cell_type": "code",
   "execution_count": null,
   "metadata": {},
   "outputs": [],
   "source": [
    "ipl= ['CSK','MI','KKR','LSG','PBKS']\n",
    "\n",
    "user_input= input()\n",
    "idx, new_team = user_input.split()\n",
    "\n",
    "index = int(idx)\n",
    "\n",
    "#old tteam list and its length\n",
    "\n",
    "print(ipl)\n",
    "print(len(ipl))\n",
    "\n",
    "ipl.insert(index, new_team)\n",
    "\n",
    "#new tteam list and its length\n",
    "\n",
    "print(ipl)\n",
    "print(len(ipl))"
   ]
  },
  {
   "cell_type": "code",
   "execution_count": null,
   "metadata": {},
   "outputs": [],
   "source": []
  }
 ],
 "metadata": {
  "kernelspec": {
   "display_name": "Python 3",
   "language": "python",
   "name": "python3"
  },
  "language_info": {
   "codemirror_mode": {
    "name": "ipython",
    "version": 3
   },
   "file_extension": ".py",
   "mimetype": "text/x-python",
   "name": "python",
   "nbconvert_exporter": "python",
   "pygments_lexer": "ipython3",
   "version": "3.6.5"
  }
 },
 "nbformat": 4,
 "nbformat_minor": 2
}
